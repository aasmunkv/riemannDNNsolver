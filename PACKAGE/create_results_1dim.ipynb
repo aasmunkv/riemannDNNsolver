{
 "cells": [
  {
   "cell_type": "markdown",
   "metadata": {},
   "source": [
    "# **Creating results for 1 dimensional Riemann problems**\n",
    "This notebook is for easily creating results to use in the thesis. The code is based on code from the development stage, found in `dev_pkg_1dim.ipynb` which is a notebook used for testing everything while developing.\n",
    "\n",
    "## **How to produce results**\n",
    "1. Choose parameters. Be wise on choice of destination to avoid overwriting.\n",
    "2. Restart kernel and run all cells.\n",
    "\n",
    "**NB**: `Make sure not to overwrite wanted material, thus choose destination and filename with care`**!!!**"
   ]
  },
  {
   "cell_type": "code",
   "execution_count": 1,
   "metadata": {
    "jupyter": {
     "source_hidden": true
    }
   },
   "outputs": [
    {
     "name": "stdout",
     "output_type": "stream",
     "text": [
      "Last run: 2021-02-03 09:54:58.292187\n"
     ]
    }
   ],
   "source": [
    "from datetime import datetime\n",
    "print(\"Last run:\",datetime.today())"
   ]
  },
  {
   "cell_type": "markdown",
   "metadata": {},
   "source": [
    "## Imports"
   ]
  },
  {
   "cell_type": "code",
   "execution_count": 2,
   "metadata": {
    "jupyter": {
     "source_hidden": true
    }
   },
   "outputs": [],
   "source": [
    "import torch\n",
    "import torch.nn as nn\n",
    "import torch.nn.functional as F\n",
    "import numpy as np\n",
    "import matplotlib.pyplot as plt\n",
    "\n",
    "from riemannsolver import data1d\n",
    "from riemannsolver import net_mlp1d as network\n",
    "from riemannsolver import god_mlp1d as god_aprox\n",
    "from riemannsolver import netplot\n",
    "from riemannsolver import function\n",
    "from riemannsolver import godunov as god_exact\n",
    "\n",
    "from IPython.display import HTML\n",
    "from tqdm import tqdm_notebook as tqdm"
   ]
  },
  {
   "cell_type": "markdown",
   "metadata": {},
   "source": [
    "## **Parameters**"
   ]
  },
  {
   "cell_type": "markdown",
   "metadata": {},
   "source": [
    "#### Flux and derivative"
   ]
  },
  {
   "cell_type": "code",
   "execution_count": 3,
   "metadata": {},
   "outputs": [],
   "source": [
    "f = lambda u: u**2/2\n",
    "dfdu = lambda u: u"
   ]
  },
  {
   "cell_type": "markdown",
   "metadata": {},
   "source": [
    "#### Destination and filename"
   ]
  },
  {
   "cell_type": "code",
   "execution_count": 4,
   "metadata": {},
   "outputs": [],
   "source": [
    "destination = \"res/1dim/burgers/test\"\n",
    "name = \"test\""
   ]
  },
  {
   "cell_type": "markdown",
   "metadata": {},
   "source": [
    "#### Training and validation size"
   ]
  },
  {
   "cell_type": "code",
   "execution_count": 5,
   "metadata": {},
   "outputs": [],
   "source": [
    "N = 100000\n",
    "N_val = N//10"
   ]
  },
  {
   "cell_type": "markdown",
   "metadata": {},
   "source": [
    "#### Network parameters"
   ]
  },
  {
   "cell_type": "code",
   "execution_count": 6,
   "metadata": {},
   "outputs": [],
   "source": [
    "dimensions = (2,12,12,12,12,1)\n",
    "epochs = 20\n",
    "batchsize = 100"
   ]
  },
  {
   "cell_type": "markdown",
   "metadata": {},
   "source": [
    "#### Mesh- and method-parameters"
   ]
  },
  {
   "cell_type": "code",
   "execution_count": 7,
   "metadata": {},
   "outputs": [],
   "source": [
    "Nx = 50\n",
    "T = 0.5\n",
    "C = 0.5"
   ]
  },
  {
   "cell_type": "code",
   "execution_count": 8,
   "metadata": {
    "jupyter": {
     "source_hidden": true
    }
   },
   "outputs": [
    {
     "data": {
      "text/html": [
       "<div>\n",
       "<style scoped>\n",
       "    .dataframe tbody tr th:only-of-type {\n",
       "        vertical-align: middle;\n",
       "    }\n",
       "\n",
       "    .dataframe tbody tr th {\n",
       "        vertical-align: top;\n",
       "    }\n",
       "\n",
       "    .dataframe thead th {\n",
       "        text-align: right;\n",
       "    }\n",
       "</style>\n",
       "<table border=\"1\" class=\"dataframe\">\n",
       "  <thead>\n",
       "    <tr style=\"text-align: right;\">\n",
       "      <th></th>\n",
       "      <th></th>\n",
       "    </tr>\n",
       "  </thead>\n",
       "  <tbody>\n",
       "    <tr>\n",
       "      <th>Destination</th>\n",
       "      <td>res/1dim/burgers/test</td>\n",
       "    </tr>\n",
       "    <tr>\n",
       "      <th>Filename</th>\n",
       "      <td>test</td>\n",
       "    </tr>\n",
       "  </tbody>\n",
       "</table>\n",
       "</div>"
      ],
      "text/plain": [
       "                                  \n",
       "Destination  res/1dim/burgers/test\n",
       "Filename                      test"
      ]
     },
     "execution_count": 8,
     "metadata": {},
     "output_type": "execute_result"
    }
   ],
   "source": [
    "import pandas as pd\n",
    "pd.DataFrame([destination, name],columns=[\"\"], index=[\"Destination\", \"Filename\"])"
   ]
  },
  {
   "cell_type": "code",
   "execution_count": 9,
   "metadata": {},
   "outputs": [],
   "source": [
    "#pd.DataFrame([dim for dim in dimensions],columns=[\"Nodes in network\"], index=[\"Input\", \"Layer2\", \"Layer3\", \"Layer4\", \"Output\"])"
   ]
  },
  {
   "cell_type": "markdown",
   "metadata": {},
   "source": [
    "## Data"
   ]
  },
  {
   "cell_type": "code",
   "execution_count": 10,
   "metadata": {
    "jupyter": {
     "source_hidden": true
    }
   },
   "outputs": [
    {
     "data": {
      "application/vnd.jupyter.widget-view+json": {
       "model_id": "db9345dfc1e840a284710ec9c02af8df",
       "version_major": 2,
       "version_minor": 0
      },
      "text/plain": [
       "HBox(children=(HTML(value='Creating progress'), FloatProgress(value=0.0, max=100000.0), HTML(value='')))"
      ]
     },
     "metadata": {},
     "output_type": "display_data"
    },
    {
     "name": "stdout",
     "output_type": "stream",
     "text": [
      "\n",
      "Data is saved in res/1dim/burgers/test/100k_test\n"
     ]
    },
    {
     "data": {
      "application/vnd.jupyter.widget-view+json": {
       "model_id": "7f0f0e07c8d749128e96f22fbf1e8671",
       "version_major": 2,
       "version_minor": 0
      },
      "text/plain": [
       "HBox(children=(HTML(value='Creating progress'), FloatProgress(value=0.0, max=10000.0), HTML(value='')))"
      ]
     },
     "metadata": {},
     "output_type": "display_data"
    },
    {
     "name": "stdout",
     "output_type": "stream",
     "text": [
      "\n",
      "Data is saved in res/1dim/burgers/test/10k_test\n"
     ]
    }
   ],
   "source": [
    "# training data\n",
    "gen_trn = data1d.Dataset(N=N, f=f) \n",
    "gen_trn.create\n",
    "gen_trn.save(destination=destination, filename=str(N//1000)+'k_'+name)\n",
    "data_trn = gen_trn.get_data\n",
    "\n",
    "# validation data\n",
    "gen_val = data1d.Dataset(N=N_val, f=f) \n",
    "gen_val.create\n",
    "gen_val.save(destination=destination, filename=str(N_val//1000)+'k_'+name)\n",
    "#gen_val.save(destination=destination, filename=str(N_val//1000+1000)+'k_'+name)\n",
    "data_val = gen_val.get_data"
   ]
  },
  {
   "cell_type": "markdown",
   "metadata": {},
   "source": [
    "## Network"
   ]
  },
  {
   "cell_type": "code",
   "execution_count": 11,
   "metadata": {
    "jupyter": {
     "source_hidden": true
    }
   },
   "outputs": [],
   "source": [
    "net = network.Network(\n",
    "    N=N, \n",
    "    dimensions=dimensions,\n",
    "    dfdu=dfdu\n",
    ")"
   ]
  },
  {
   "cell_type": "code",
   "execution_count": 14,
   "metadata": {
    "jupyter": {
     "source_hidden": true
    }
   },
   "outputs": [
    {
     "data": {
      "application/vnd.jupyter.widget-view+json": {
       "model_id": "7b786fb148dc47738c45e0320a51f1a6",
       "version_major": 2,
       "version_minor": 0
      },
      "text/plain": [
       "HBox(children=(HTML(value='Training progress (loss:       )'), FloatProgress(value=0.0, max=10.0), HTML(value=…"
      ]
     },
     "metadata": {},
     "output_type": "display_data"
    },
    {
     "name": "stdout",
     "output_type": "stream",
     "text": [
      "\n"
     ]
    },
    {
     "data": {
      "image/png": "[encoded data removed]",
      "text/plain": [
       "<Figure size 216x216 with 1 Axes>"
      ]
     },
     "metadata": {
      "needs_background": "light"
     },
     "output_type": "display_data"
    },
    {
     "data": {
      "image/png": "[encoded data removed]",
      "text/plain": [
       "<Figure size 216x216 with 1 Axes>"
      ]
     },
     "metadata": {
      "needs_background": "light"
     },
     "output_type": "display_data"
    }
   ],
   "source": [
    "net.backward(\n",
    "    epochs = epochs,\n",
    "    batchsize = batchsize,\n",
    "    data_train=data_trn,\n",
    "    data_val=data_val,\n",
    "    destination=destination,\n",
    "    name=name\n",
    ")\n",
    "hist = net.history\n",
    "hist_w = net.history_weight\n",
    "netplt = netplot.Curve(hist, hist_w)\n",
    "netplt.plot_history(destination=destination, name=name, show=True)\n",
    "netplt.plot_weights(destination=destination, name=name, show=True)"
   ]
  },
  {
   "cell_type": "markdown",
   "metadata": {},
   "source": [
    "## Approximate by Godunov"
   ]
  },
  {
   "cell_type": "code",
   "execution_count": 15,
   "metadata": {
    "jupyter": {
     "source_hidden": true
    }
   },
   "outputs": [
    {
     "name": "stdout",
     "output_type": "stream",
     "text": [
      "Initial function: heaviside\n"
     ]
    },
    {
     "data": {
      "application/vnd.jupyter.widget-view+json": {
       "model_id": "d5d08a74eec94cfcae8e0907f28672a7",
       "version_major": 2,
       "version_minor": 0
      },
      "text/plain": [
       "HBox(children=(HTML(value='Solving progress'), FloatProgress(value=0.0, max=0.5), HTML(value='')))"
      ]
     },
     "metadata": {},
     "output_type": "display_data"
    },
    {
     "name": "stdout",
     "output_type": "stream",
     "text": [
      "\n"
     ]
    },
    {
     "data": {
      "application/vnd.jupyter.widget-view+json": {
       "model_id": "7ea3156a803d4154878e7d6f0868d656",
       "version_major": 2,
       "version_minor": 0
      },
      "text/plain": [
       "HBox(children=(HTML(value='Solving progress'), FloatProgress(value=0.0, max=0.5), HTML(value='')))"
      ]
     },
     "metadata": {},
     "output_type": "display_data"
    },
    {
     "name": "stdout",
     "output_type": "stream",
     "text": [
      "\n"
     ]
    },
    {
     "data": {
      "application/vnd.jupyter.widget-view+json": {
       "model_id": "8f6814c34d9c4739b08e137a5246d50d",
       "version_major": 2,
       "version_minor": 0
      },
      "text/plain": [
       "HBox(children=(HTML(value='Solving progress'), FloatProgress(value=0.0, max=0.5), HTML(value='')))"
      ]
     },
     "metadata": {},
     "output_type": "display_data"
    },
    {
     "name": "stdout",
     "output_type": "stream",
     "text": [
      "\n"
     ]
    },
    {
     "data": {
      "image/png": "[encoded data removed]",
      "text/plain": [
       "<Figure size 216x216 with 1 Axes>"
      ]
     },
     "metadata": {
      "needs_background": "light"
     },
     "output_type": "display_data"
    },
    {
     "name": "stdout",
     "output_type": "stream",
     "text": [
      "Relative error - godunov vs network:  0.025177824118999013\n",
      "Initial function: reverseHeavi\n"
     ]
    },
    {
     "data": {
      "application/vnd.jupyter.widget-view+json": {
       "model_id": "e7d4a4b399cc4d0a9fddcc3d2abe5a97",
       "version_major": 2,
       "version_minor": 0
      },
      "text/plain": [
       "HBox(children=(HTML(value='Solving progress'), FloatProgress(value=0.0, max=0.5), HTML(value='')))"
      ]
     },
     "metadata": {},
     "output_type": "display_data"
    },
    {
     "name": "stdout",
     "output_type": "stream",
     "text": [
      "\n"
     ]
    },
    {
     "data": {
      "application/vnd.jupyter.widget-view+json": {
       "model_id": "636dae905c484e24874c3a2ce0fdda81",
       "version_major": 2,
       "version_minor": 0
      },
      "text/plain": [
       "HBox(children=(HTML(value='Solving progress'), FloatProgress(value=0.0, max=0.5), HTML(value='')))"
      ]
     },
     "metadata": {},
     "output_type": "display_data"
    },
    {
     "name": "stdout",
     "output_type": "stream",
     "text": [
      "\n"
     ]
    },
    {
     "data": {
      "application/vnd.jupyter.widget-view+json": {
       "model_id": "982978b28ecb457692e3cac9ac79e502",
       "version_major": 2,
       "version_minor": 0
      },
      "text/plain": [
       "HBox(children=(HTML(value='Solving progress'), FloatProgress(value=0.0, max=0.5), HTML(value='')))"
      ]
     },
     "metadata": {},
     "output_type": "display_data"
    },
    {
     "name": "stdout",
     "output_type": "stream",
     "text": [
      "\n"
     ]
    },
    {
     "data": {
      "image/png": "[encoded data removed]",
      "text/plain": [
       "<Figure size 216x216 with 1 Axes>"
      ]
     },
     "metadata": {
      "needs_background": "light"
     },
     "output_type": "display_data"
    },
    {
     "name": "stdout",
     "output_type": "stream",
     "text": [
      "Relative error - godunov vs network:  0.020641520545571754\n",
      "Initial function: inverse\n"
     ]
    },
    {
     "data": {
      "application/vnd.jupyter.widget-view+json": {
       "model_id": "e591a5e03b2f43ada3146ca22aece2bc",
       "version_major": 2,
       "version_minor": 0
      },
      "text/plain": [
       "HBox(children=(HTML(value='Solving progress'), FloatProgress(value=0.0, max=0.5), HTML(value='')))"
      ]
     },
     "metadata": {},
     "output_type": "display_data"
    },
    {
     "name": "stdout",
     "output_type": "stream",
     "text": [
      "\n"
     ]
    },
    {
     "data": {
      "application/vnd.jupyter.widget-view+json": {
       "model_id": "e3b0871d6d234eafa99bb66602816d3b",
       "version_major": 2,
       "version_minor": 0
      },
      "text/plain": [
       "HBox(children=(HTML(value='Solving progress'), FloatProgress(value=0.0, max=0.5), HTML(value='')))"
      ]
     },
     "metadata": {},
     "output_type": "display_data"
    },
    {
     "name": "stdout",
     "output_type": "stream",
     "text": [
      "\n"
     ]
    },
    {
     "data": {
      "application/vnd.jupyter.widget-view+json": {
       "model_id": "f060ca671af842588431904cdeee2921",
       "version_major": 2,
       "version_minor": 0
      },
      "text/plain": [
       "HBox(children=(HTML(value='Solving progress'), FloatProgress(value=0.0, max=0.5), HTML(value='')))"
      ]
     },
     "metadata": {},
     "output_type": "display_data"
    },
    {
     "name": "stdout",
     "output_type": "stream",
     "text": [
      "\n"
     ]
    },
    {
     "data": {
      "image/png": "[encoded data removed]",
      "text/plain": [
       "<Figure size 216x216 with 1 Axes>"
      ]
     },
     "metadata": {
      "needs_background": "light"
     },
     "output_type": "display_data"
    },
    {
     "name": "stdout",
     "output_type": "stream",
     "text": [
      "Relative error - godunov vs network:  0.020970486848056313\n",
      "Initial function: trig\n"
     ]
    },
    {
     "data": {
      "application/vnd.jupyter.widget-view+json": {
       "model_id": "07ad30d83b324d1fb7150fb2eb08c5f3",
       "version_major": 2,
       "version_minor": 0
      },
      "text/plain": [
       "HBox(children=(HTML(value='Solving progress'), FloatProgress(value=0.0, max=0.5), HTML(value='')))"
      ]
     },
     "metadata": {},
     "output_type": "display_data"
    },
    {
     "name": "stdout",
     "output_type": "stream",
     "text": [
      "\n"
     ]
    },
    {
     "data": {
      "application/vnd.jupyter.widget-view+json": {
       "model_id": "7fb79d6814814b2abb33f1d83b6fc86e",
       "version_major": 2,
       "version_minor": 0
      },
      "text/plain": [
       "HBox(children=(HTML(value='Solving progress'), FloatProgress(value=0.0, max=0.5), HTML(value='')))"
      ]
     },
     "metadata": {},
     "output_type": "display_data"
    },
    {
     "name": "stdout",
     "output_type": "stream",
     "text": [
      "\n"
     ]
    },
    {
     "data": {
      "application/vnd.jupyter.widget-view+json": {
       "model_id": "7ffd83e6cebc4e57bc585cc0dde18c52",
       "version_major": 2,
       "version_minor": 0
      },
      "text/plain": [
       "HBox(children=(HTML(value='Solving progress'), FloatProgress(value=0.0, max=0.5), HTML(value='')))"
      ]
     },
     "metadata": {},
     "output_type": "display_data"
    },
    {
     "name": "stdout",
     "output_type": "stream",
     "text": [
      "\n"
     ]
    },
    {
     "data": {
      "image/png": "[encoded data removed]",
      "text/plain": [
       "<Figure size 216x216 with 1 Axes>"
      ]
     },
     "metadata": {
      "needs_background": "light"
     },
     "output_type": "display_data"
    },
    {
     "name": "stdout",
     "output_type": "stream",
     "text": [
      "Relative error - godunov vs network:  0.1019313262622782\n"
     ]
    }
   ],
   "source": [
    "u0 = [\n",
    "    lambda x: (x>=0).type(torch.float64), # Heaviside\n",
    "    lambda x: (x<0).type(torch.float64), # Reversed Heaviside\n",
    "    lambda x: ((-1)*(x<0) + (x>0)).type(torch.float64), # Inverse\n",
    "    lambda x: np.sin(4*np.pi*x) # Trigonometric\n",
    "]\n",
    "bounds= ['neumann' for _ in range(3)]+['periodic']\n",
    "labels = ['heaviside', 'reverseHeavi', 'inverse', 'trig']\n",
    "\n",
    "for i in range(len(u0)):\n",
    "    print(\"Initial function:\",labels[i])\n",
    "    # solve with network\n",
    "    god_a = god_aprox.Godunov(\n",
    "        f=f, dfdu=dfdu, u0=u0[i], \n",
    "        bnd_cond=bounds[i], \n",
    "        xmin=-1, xmax=1, Nx=Nx, \n",
    "        network=net.network, T=T, C=C\n",
    "    )\n",
    "    god_a.solve\n",
    "    # solve exact\n",
    "    god_e = god_exact.Godunov(\n",
    "        f=f, dfdu=dfdu, u0=u0[i], \n",
    "        bnd_cond=bounds[i], \n",
    "        xmin=-1, xmax=1, Nx=8192, \n",
    "        T=T, C=C\n",
    "    )\n",
    "    god_e.solve\n",
    "    # solve with godunov\n",
    "    god_g = god_exact.Godunov(\n",
    "        f=f, dfdu=dfdu, u0=u0[i], \n",
    "        bnd_cond=bounds[i], \n",
    "        xmin=-1, xmax=1, Nx=Nx, \n",
    "        T=T, C=C\n",
    "    )\n",
    "    god_g.solve\n",
    "    # set visuals in netplot module\n",
    "    netplt.god_net = god_a\n",
    "    netplt.god_ext = god_e\n",
    "    netplt.god_god = god_g\n",
    "    # plot and save\n",
    "    netplt.plot_solution_exact(destination=destination, name=labels[i]+'_'+name, show=True)\n",
    "    netplt.plot_solution(destination=destination, name=labels[i]+'_'+name, show=False)\n",
    "    netplt.plot_godunov(destination=destination, name=labels[i]+'_'+name, show=False)\n",
    "    netplt.plot_exact(destination=destination, name=labels[i]+'_'+name, show=False)\n",
    "\n",
    "    re = float(\n",
    "        torch.sqrt(\n",
    "            torch.sum( (god_a.u[-1]-god_g.u[-1])**2 )/torch.sum( (god_g.u[-1])**2 )\n",
    "        )\n",
    "    )\n",
    "    print(\"Relative error - godunov vs network: \",re)"
   ]
  },
  {
   "cell_type": "code",
   "execution_count": null,
   "metadata": {},
   "outputs": [],
   "source": []
  },
  {
   "cell_type": "code",
   "execution_count": null,
   "metadata": {},
   "outputs": [],
   "source": []
  }
 ],
 "metadata": {
  "kernelspec": {
   "display_name": "Python 3",
   "language": "python",
   "name": "python3"
  },
  "language_info": {
   "codemirror_mode": {
    "name": "ipython",
    "version": 3
   },
   "file_extension": ".py",
   "mimetype": "text/x-python",
   "name": "python",
   "nbconvert_exporter": "python",
   "pygments_lexer": "ipython3",
   "version": "3.8.3"
  }
 },
 "nbformat": 4,
 "nbformat_minor": 4
}
