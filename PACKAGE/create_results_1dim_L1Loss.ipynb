{
 "cells": [
  {
   "cell_type": "markdown",
   "metadata": {},
   "source": [
    "# **Creating results for 1 dimensional Riemann problems with new loss**\n",
    "This notebook is for easily creating results to use in the thesis. The code is based on code from the development stage, found in `dev_pkg_newLoss.ipynb` which is a notebook used for testing everything while developing.\n",
    "\n",
    "## **How to produce results**\n",
    "1. Choose parameters. Be wise on choice of destination to avoid overwriting.\n",
    "2. Restart kernel and run all cells.\n",
    "\n",
    "**NB**: `Make sure not to overwrite wanted material, thus choose destination and filename with care`**!!!**"
   ]
  },
  {
   "cell_type": "code",
   "execution_count": 1,
   "metadata": {
    "jupyter": {
     "source_hidden": true
    }
   },
   "outputs": [
    {
     "name": "stdout",
     "output_type": "stream",
     "text": [
      "Last run: 2021-03-24 14:48:22.046317\n"
     ]
    }
   ],
   "source": [
    "from datetime import datetime\n",
    "print(\"Last run:\",datetime.today())"
   ]
  },
  {
   "cell_type": "markdown",
   "metadata": {},
   "source": [
    "## Imports"
   ]
  },
  {
   "cell_type": "code",
   "execution_count": 2,
   "metadata": {
    "jupyter": {
     "source_hidden": true
    }
   },
   "outputs": [],
   "source": [
    "import torch\n",
    "import torch.nn as nn\n",
    "import torch.nn.functional as F\n",
    "import numpy as np\n",
    "import matplotlib.pyplot as plt\n",
    "\n",
    "from riemannsolver import data1d_newLoss\n",
    "from riemannsolver import net_mlp1d as network\n",
    "from riemannsolver import god_mlp1d as god_aprox\n",
    "from riemannsolver import netplot\n",
    "from riemannsolver import function\n",
    "from riemannsolver import godunov as god_exact\n",
    "\n",
    "from IPython.display import HTML\n",
    "from tqdm import tqdm_notebook as tqdm"
   ]
  },
  {
   "cell_type": "markdown",
   "metadata": {},
   "source": [
    "## **Parameters**"
   ]
  },
  {
   "cell_type": "markdown",
   "metadata": {},
   "source": [
    "#### Flux and derivative"
   ]
  },
  {
   "cell_type": "code",
   "execution_count": 3,
   "metadata": {},
   "outputs": [],
   "source": [
    "f = lambda u: u**2/2\n",
    "dfdu = lambda u: u"
   ]
  },
  {
   "cell_type": "markdown",
   "metadata": {},
   "source": [
    "#### Destination and filename"
   ]
  },
  {
   "cell_type": "code",
   "execution_count": 4,
   "metadata": {},
   "outputs": [],
   "source": [
    "destination = \"res/newLoss/burgers/test\"\n",
    "name = \"newloss_\"+\"test\""
   ]
  },
  {
   "cell_type": "markdown",
   "metadata": {},
   "source": [
    "#### Training and validation size\n",
    "* M - number of rows of data (M_val for validation).\n",
    "* N - mesh size of the two arrays in column direction.\n",
    "* K - constant to use for variation when creating Fourier coefficients.\n",
    "* newdata - choose whether or not to create new data."
   ]
  },
  {
   "cell_type": "code",
   "execution_count": 5,
   "metadata": {},
   "outputs": [],
   "source": [
    "M = 100000\n",
    "M_val = M//10\n",
    "N = 50\n",
    "K = 50\n",
    "newdata = False"
   ]
  },
  {
   "cell_type": "markdown",
   "metadata": {},
   "source": [
    "#### Network parameters"
   ]
  },
  {
   "cell_type": "code",
   "execution_count": 6,
   "metadata": {},
   "outputs": [],
   "source": [
    "dimensions = (2,600,1)\n",
    "epochs = 20\n",
    "batchsize = 100"
   ]
  },
  {
   "cell_type": "markdown",
   "metadata": {},
   "source": [
    "#### Mesh- and method-parameters"
   ]
  },
  {
   "cell_type": "code",
   "execution_count": 7,
   "metadata": {},
   "outputs": [],
   "source": [
    "Nx = 50\n",
    "T = 0.5\n",
    "C = 0.5"
   ]
  },
  {
   "cell_type": "markdown",
   "metadata": {},
   "source": [
    "## **Data**"
   ]
  },
  {
   "cell_type": "code",
   "execution_count": 8,
   "metadata": {},
   "outputs": [
    {
     "name": "stdout",
     "output_type": "stream",
     "text": [
      "Data is loaded from res/newLoss/burgers/data/data_100k_train\n",
      "Data is loaded from res/newLoss/burgers/data/data_10k_val\n"
     ]
    }
   ],
   "source": [
    "data_train = data1d_newLoss.Dataset(M, N, K, f, dfdu)\n",
    "data_val = data1d_newLoss.Dataset(M_val, N, K, f, dfdu)\n",
    "if newdata:\n",
    "    data_train.create\n",
    "    data_train.save(destination=destination, filename=name+'_train')\n",
    "    data_val.create\n",
    "    data_val.save(destination=destination, filename=name+'_val')\n",
    "else:\n",
    "    data_train.load(destination=\"res/newLoss/burgers/data\", filename='100k_train')\n",
    "    data_val.load(destination=\"res/newLoss/burgers/data\", filename='10k_val')"
   ]
  },
  {
   "cell_type": "markdown",
   "metadata": {},
   "source": [
    "## **Network**"
   ]
  },
  {
   "cell_type": "code",
   "execution_count": 9,
   "metadata": {},
   "outputs": [],
   "source": [
    "net = network.Network(\n",
    "    N=N, \n",
    "    dimensions=dimensions,\n",
    "    dfdu=dfdu,\n",
    "    activation=F.relu\n",
    ")"
   ]
  },
  {
   "cell_type": "code",
   "execution_count": 10,
   "metadata": {},
   "outputs": [
    {
     "ename": "RuntimeError",
     "evalue": "CUDA out of memory. Tried to allocate 1.12 GiB (GPU 0; 3.95 GiB total capacity; 1.16 GiB already allocated; 1.07 GiB free; 1.18 GiB reserved in total by PyTorch)",
     "output_type": "error",
     "traceback": [
      "\u001b[0;31m---------------------------------------------------------------------------\u001b[0m",
      "\u001b[0;31mRuntimeError\u001b[0m                              Traceback (most recent call last)",
      "\u001b[0;32m<ipython-input-10-0aa721b51441>\u001b[0m in \u001b[0;36m<module>\u001b[0;34m\u001b[0m\n\u001b[0;32m----> 1\u001b[0;31m net.backward_newLoss(\n\u001b[0m\u001b[1;32m      2\u001b[0m     \u001b[0mdata_train\u001b[0m\u001b[0;34m=\u001b[0m\u001b[0mdata_train\u001b[0m\u001b[0;34m.\u001b[0m\u001b[0mdata\u001b[0m\u001b[0;34m,\u001b[0m\u001b[0;34m\u001b[0m\u001b[0;34m\u001b[0m\u001b[0m\n\u001b[1;32m      3\u001b[0m     \u001b[0mdata_val\u001b[0m\u001b[0;34m=\u001b[0m\u001b[0mdata_val\u001b[0m\u001b[0;34m.\u001b[0m\u001b[0mdata\u001b[0m\u001b[0;34m,\u001b[0m\u001b[0;34m\u001b[0m\u001b[0;34m\u001b[0m\u001b[0m\n\u001b[1;32m      4\u001b[0m     \u001b[0mepochs\u001b[0m\u001b[0;34m=\u001b[0m\u001b[0mepochs\u001b[0m\u001b[0;34m,\u001b[0m\u001b[0;34m\u001b[0m\u001b[0;34m\u001b[0m\u001b[0m\n\u001b[1;32m      5\u001b[0m     \u001b[0mbatchsize\u001b[0m\u001b[0;34m=\u001b[0m\u001b[0mbatchsize\u001b[0m\u001b[0;34m,\u001b[0m\u001b[0;34m\u001b[0m\u001b[0;34m\u001b[0m\u001b[0m\n",
      "\u001b[0;32m~/Masteroppgave/Implementation/PACKAGE/riemannsolver/mlp1d/network.py\u001b[0m in \u001b[0;36mbackward_newLoss\u001b[0;34m(self, data_train, data_val, epochs, batchsize, destination, name)\u001b[0m\n\u001b[1;32m    292\u001b[0m             \u001b[0mself\u001b[0m\u001b[0;34m.\u001b[0m\u001b[0mloss_val\u001b[0m \u001b[0;34m=\u001b[0m \u001b[0;34m[\u001b[0m\u001b[0;34m]\u001b[0m\u001b[0;34m\u001b[0m\u001b[0;34m\u001b[0m\u001b[0m\n\u001b[1;32m    293\u001b[0m             \u001b[0mself\u001b[0m\u001b[0;34m.\u001b[0m\u001b[0mweights\u001b[0m \u001b[0;34m=\u001b[0m \u001b[0;34m[\u001b[0m\u001b[0;34m]\u001b[0m\u001b[0;34m\u001b[0m\u001b[0;34m\u001b[0m\u001b[0m\n\u001b[0;32m--> 294\u001b[0;31m             \u001b[0mval_loss\u001b[0m \u001b[0;34m=\u001b[0m \u001b[0;34m(\u001b[0m\u001b[0mself\u001b[0m\u001b[0;34m.\u001b[0m\u001b[0mnetwork\u001b[0m\u001b[0;34m.\u001b[0m\u001b[0mforward\u001b[0m\u001b[0;34m(\u001b[0m\u001b[0minp_val\u001b[0m\u001b[0;34m[\u001b[0m\u001b[0;34m:\u001b[0m\u001b[0;34m,\u001b[0m\u001b[0minp_ind\u001b[0m\u001b[0;34m]\u001b[0m\u001b[0;34m.\u001b[0m\u001b[0mto\u001b[0m\u001b[0;34m(\u001b[0m\u001b[0mself\u001b[0m\u001b[0;34m.\u001b[0m\u001b[0mdevice\u001b[0m\u001b[0;34m)\u001b[0m\u001b[0;34m)\u001b[0m\u001b[0;34m.\u001b[0m\u001b[0mdata\u001b[0m\u001b[0;34m)\u001b[0m  \u001b[0;31m#[:,inp_ind] of inp?\u001b[0m\u001b[0;34m\u001b[0m\u001b[0;34m\u001b[0m\u001b[0m\n\u001b[0m\u001b[1;32m    295\u001b[0m             \u001b[0mval_loss\u001b[0m \u001b[0;34m=\u001b[0m \u001b[0mloss_var\u001b[0m\u001b[0;34m(\u001b[0m\u001b[0minp_val\u001b[0m\u001b[0;34m,\u001b[0m \u001b[0mval_loss\u001b[0m\u001b[0;34m)\u001b[0m\u001b[0;34m\u001b[0m\u001b[0;34m\u001b[0m\u001b[0m\n\u001b[1;32m    296\u001b[0m             \u001b[0mval_loss\u001b[0m \u001b[0;34m=\u001b[0m \u001b[0mnn\u001b[0m\u001b[0;34m.\u001b[0m\u001b[0mL1Loss\u001b[0m\u001b[0;34m(\u001b[0m\u001b[0;34m)\u001b[0m\u001b[0;34m(\u001b[0m\u001b[0mval_loss\u001b[0m\u001b[0;34m,\u001b[0m \u001b[0mout_val\u001b[0m\u001b[0;34m.\u001b[0m\u001b[0mto\u001b[0m\u001b[0;34m(\u001b[0m\u001b[0mself\u001b[0m\u001b[0;34m.\u001b[0m\u001b[0mdevice\u001b[0m\u001b[0;34m)\u001b[0m\u001b[0;34m)\u001b[0m\u001b[0;34m\u001b[0m\u001b[0;34m\u001b[0m\u001b[0m\n",
      "\u001b[0;32m~/Masteroppgave/Implementation/PACKAGE/riemannsolver/mlp1d/network.py\u001b[0m in \u001b[0;36mforward\u001b[0;34m(self, inp)\u001b[0m\n\u001b[1;32m     88\u001b[0m         \u001b[0minp\u001b[0m \u001b[0;34m=\u001b[0m \u001b[0minp\u001b[0m\u001b[0;34m.\u001b[0m\u001b[0mto\u001b[0m\u001b[0;34m(\u001b[0m\u001b[0mself\u001b[0m\u001b[0;34m.\u001b[0m\u001b[0mdevice\u001b[0m\u001b[0;34m)\u001b[0m\u001b[0;34m\u001b[0m\u001b[0;34m\u001b[0m\u001b[0m\n\u001b[1;32m     89\u001b[0m         \u001b[0mout\u001b[0m \u001b[0;34m=\u001b[0m \u001b[0mself\u001b[0m\u001b[0;34m.\u001b[0m\u001b[0mlayer_inp\u001b[0m\u001b[0;34m(\u001b[0m\u001b[0minp\u001b[0m\u001b[0;34m)\u001b[0m\u001b[0;34m\u001b[0m\u001b[0;34m\u001b[0m\u001b[0m\n\u001b[0;32m---> 90\u001b[0;31m         \u001b[0mout\u001b[0m \u001b[0;34m=\u001b[0m \u001b[0mself\u001b[0m\u001b[0;34m.\u001b[0m\u001b[0mactivation\u001b[0m\u001b[0;34m(\u001b[0m\u001b[0mout\u001b[0m\u001b[0;34m)\u001b[0m\u001b[0;34m\u001b[0m\u001b[0;34m\u001b[0m\u001b[0m\n\u001b[0m\u001b[1;32m     91\u001b[0m         \u001b[0;32mfor\u001b[0m \u001b[0mlayer\u001b[0m \u001b[0;32min\u001b[0m \u001b[0mself\u001b[0m\u001b[0;34m.\u001b[0m\u001b[0mlayer_hid\u001b[0m\u001b[0;34m:\u001b[0m\u001b[0;34m\u001b[0m\u001b[0;34m\u001b[0m\u001b[0m\n\u001b[1;32m     92\u001b[0m             \u001b[0mout\u001b[0m \u001b[0;34m=\u001b[0m \u001b[0mself\u001b[0m\u001b[0;34m.\u001b[0m\u001b[0mactivation\u001b[0m\u001b[0;34m(\u001b[0m\u001b[0mlayer\u001b[0m\u001b[0;34m(\u001b[0m\u001b[0mout\u001b[0m\u001b[0;34m)\u001b[0m\u001b[0;34m.\u001b[0m\u001b[0mto\u001b[0m\u001b[0;34m(\u001b[0m\u001b[0mself\u001b[0m\u001b[0;34m.\u001b[0m\u001b[0mdevice\u001b[0m\u001b[0;34m)\u001b[0m\u001b[0;34m)\u001b[0m\u001b[0;34m\u001b[0m\u001b[0;34m\u001b[0m\u001b[0m\n",
      "\u001b[0;32m~/miniconda3/envs/master/lib/python3.8/site-packages/torch/nn/functional.py\u001b[0m in \u001b[0;36mrelu\u001b[0;34m(input, inplace)\u001b[0m\n\u001b[1;32m   1134\u001b[0m         \u001b[0mresult\u001b[0m \u001b[0;34m=\u001b[0m \u001b[0mtorch\u001b[0m\u001b[0;34m.\u001b[0m\u001b[0mrelu_\u001b[0m\u001b[0;34m(\u001b[0m\u001b[0minput\u001b[0m\u001b[0;34m)\u001b[0m\u001b[0;34m\u001b[0m\u001b[0;34m\u001b[0m\u001b[0m\n\u001b[1;32m   1135\u001b[0m     \u001b[0;32melse\u001b[0m\u001b[0;34m:\u001b[0m\u001b[0;34m\u001b[0m\u001b[0;34m\u001b[0m\u001b[0m\n\u001b[0;32m-> 1136\u001b[0;31m         \u001b[0mresult\u001b[0m \u001b[0;34m=\u001b[0m \u001b[0mtorch\u001b[0m\u001b[0;34m.\u001b[0m\u001b[0mrelu\u001b[0m\u001b[0;34m(\u001b[0m\u001b[0minput\u001b[0m\u001b[0;34m)\u001b[0m\u001b[0;34m\u001b[0m\u001b[0;34m\u001b[0m\u001b[0m\n\u001b[0m\u001b[1;32m   1137\u001b[0m     \u001b[0;32mreturn\u001b[0m \u001b[0mresult\u001b[0m\u001b[0;34m\u001b[0m\u001b[0;34m\u001b[0m\u001b[0m\n\u001b[1;32m   1138\u001b[0m \u001b[0;34m\u001b[0m\u001b[0m\n",
      "\u001b[0;31mRuntimeError\u001b[0m: CUDA out of memory. Tried to allocate 1.12 GiB (GPU 0; 3.95 GiB total capacity; 1.16 GiB already allocated; 1.07 GiB free; 1.18 GiB reserved in total by PyTorch)"
     ]
    }
   ],
   "source": [
    "net.backward_newLoss(\n",
    "    data_train=data_train.data,\n",
    "    data_val=data_val.data,\n",
    "    epochs=epochs,\n",
    "    batchsize=batchsize,\n",
    "    destination=destination,\n",
    "    name=name\n",
    ")\n",
    "hist = net.history\n",
    "hist_w = net.history_weight\n",
    "netplt = netplot.Curve(hist, hist_w)\n",
    "netplt.plot_history(destination=destination, name=name, show=True)\n",
    "netplt.plot_weights(destination=destination, name=name, show=True)"
   ]
  },
  {
   "cell_type": "markdown",
   "metadata": {},
   "source": [
    "## **Approximate by Godunov**"
   ]
  },
  {
   "cell_type": "code",
   "execution_count": null,
   "metadata": {
    "jupyter": {
     "source_hidden": true
    }
   },
   "outputs": [],
   "source": [
    "u0 = [\n",
    "    lambda x: (x>=0).type(torch.float64), # Heaviside\n",
    "    lambda x: (x<0).type(torch.float64), # Reversed Heaviside\n",
    "    lambda x: ((-1)*(x<0) + (x>0)).type(torch.float64), # Inverse\n",
    "    lambda x: np.sin(4*np.pi*x) # Trigonometric\n",
    "]\n",
    "bounds = ['neumann' for _ in range(3)]+['periodic']\n",
    "labels = ['heaviside', 'reverseHeavi', 'inverse', 'trig']\n",
    "\n",
    "for i in range(len(u0)):\n",
    "    print(\"Initial function:\",labels[i])\n",
    "    # solve with network\n",
    "    god_a = god_aprox.Godunov(\n",
    "        f=f, dfdu=dfdu, u0=u0[i], \n",
    "        bnd_cond=bounds[i], \n",
    "        xmin=-1, xmax=1, Nx=Nx, \n",
    "        network=net.network, T=T, C=C\n",
    "    )\n",
    "    god_a.solve\n",
    "    # solve exact\n",
    "    god_e = god_exact.Godunov(\n",
    "        f=f, dfdu=dfdu, u0=u0[i], \n",
    "        bnd_cond=bounds[i], \n",
    "        xmin=-1, xmax=1, Nx=8192, \n",
    "        T=T, C=C\n",
    "    )\n",
    "    god_e.solve\n",
    "    # solve with godunov\n",
    "    god_g = god_exact.Godunov(\n",
    "        f=f, dfdu=dfdu, u0=u0[i], \n",
    "        bnd_cond=bounds[i], \n",
    "        xmin=-1, xmax=1, Nx=Nx, \n",
    "        T=T, C=C\n",
    "    )\n",
    "    god_g.solve\n",
    "    # set visuals in netplot module\n",
    "    netplt.god_net = god_a\n",
    "    netplt.god_ext = god_e\n",
    "    netplt.god_god = god_g\n",
    "    # plot and save\n",
    "    netplt.plot_solution_exact(destination=destination, name=labels[i]+'_'+name, show=True)\n",
    "    netplt.plot_solution(destination=destination, name=labels[i]+'_'+name, show=False)\n",
    "    netplt.plot_exact(destination=destination, name=labels[i]+'_'+name, show=False)\n",
    "    \n",
    "    re = float(\n",
    "        torch.sqrt(torch.sum( (god_a.u[-1]-god_g.u[-1])**2 ))/torch.sqrt(torch.sum( (god_g.u[-1])**2 ))\n",
    "    )\n",
    "    print(\"Relative error - godunov vs network: \",re)"
   ]
  },
  {
   "cell_type": "code",
   "execution_count": null,
   "metadata": {},
   "outputs": [],
   "source": []
  }
 ],
 "metadata": {
  "kernelspec": {
   "display_name": "Python 3",
   "language": "python",
   "name": "python3"
  },
  "language_info": {
   "codemirror_mode": {
    "name": "ipython",
    "version": 3
   },
   "file_extension": ".py",
   "mimetype": "text/x-python",
   "name": "python",
   "nbconvert_exporter": "python",
   "pygments_lexer": "ipython3",
   "version": "3.8.3"
  }
 },
 "nbformat": 4,
 "nbformat_minor": 4
}
