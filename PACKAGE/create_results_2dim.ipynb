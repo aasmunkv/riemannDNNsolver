{
 "cells": [
  {
   "cell_type": "markdown",
   "metadata": {},
   "source": [
    "# **Creating results for 2 dimensional Riemann problems**\n",
    "This notebook is for easily creating results to use in the thesis. The code is based on code from the development stage, found in `dev_pkg_2dim.ipynb` which is a notebook used for testing everything while developing.\n",
    "\n",
    "This notebook differs from 2dim-notebook in the sense that we in this case test with new data with additional 1 parameter, namely max_T. This such that one might add delta_t for more promessing results.\n",
    "\n",
    "## **How to produce results**\n",
    "1. Choose parameters. Be wise on choice of destination to avoid overwriting.\n",
    "2. Restart kernel and run all cells.\n",
    "\n",
    "**NB**: `Make sure not to overwrite wanted material, thus choose destination and filename with care`**!!!**"
   ]
  },
  {
   "cell_type": "code",
   "execution_count": null,
   "metadata": {
    "jupyter": {
     "source_hidden": true
    }
   },
   "outputs": [],
   "source": [
    "from datetime import datetime\n",
    "print(\"Last run:\",datetime.today())"
   ]
  },
  {
   "cell_type": "markdown",
   "metadata": {},
   "source": [
    "## Imports"
   ]
  },
  {
   "cell_type": "code",
   "execution_count": 2,
   "metadata": {
    "jupyter": {
     "source_hidden": true
    }
   },
   "outputs": [],
   "source": [
    "import torch\n",
    "import torch.nn as nn\n",
    "import torch.nn.functional as F\n",
    "import numpy as np\n",
    "import matplotlib.pyplot as plt\n",
    "\n",
    "from riemannsolver import data2d\n",
    "from riemannsolver import net_mlp2d as network\n",
    "from riemannsolver import god_mlp2d_newParam as god_aprox\n",
    "from riemannsolver import netplot\n",
    "from riemannsolver import function\n",
    "\n",
    "from riemannsolver import godunov as god_exact\n",
    "\n",
    "#from IPython.display import HTML\n",
    "from tqdm import tqdm_notebook as tqdm"
   ]
  },
  {
   "cell_type": "markdown",
   "metadata": {},
   "source": [
    "## **Parameters**"
   ]
  },
  {
   "cell_type": "markdown",
   "metadata": {},
   "source": [
    "#### Flux and derivative in x-direction and y-direction"
   ]
  },
  {
   "cell_type": "code",
   "execution_count": 3,
   "metadata": {},
   "outputs": [],
   "source": [
    "f = lambda x: x**2/2\n",
    "dfdu = lambda x: x\n",
    "\n",
    "g = lambda x: x**2/2\n",
    "dgdu = lambda x: x"
   ]
  },
  {
   "cell_type": "markdown",
   "metadata": {},
   "source": [
    "#### Destination and filename "
   ]
  },
  {
   "cell_type": "code",
   "execution_count": 4,
   "metadata": {},
   "outputs": [],
   "source": [
    "destination = \"res/2dim_newParam/burgers/test\"\n",
    "name = \"test\""
   ]
  },
  {
   "cell_type": "markdown",
   "metadata": {},
   "source": [
    "#### Data\n",
    "* val_size - size of validation data (must not exceed size of all data combined).\n",
    "* data_dest - destination of where to fetch data.\n",
    "* datasets - a list of the filename of all data to fetch."
   ]
  },
  {
   "cell_type": "code",
   "execution_count": 5,
   "metadata": {},
   "outputs": [],
   "source": [
    "val_size = 10000\n",
    "data_dest = 'res/2dim_newParam/burgers/data/data2d_7in_finalSet_210113'\n",
    "datasets = ['data_1000_burgers_N100_'+str(i)+'.pt' for i in range(0,110)] # A set of totally 110.000 data points.\n",
    "#val_size = 200\n",
    "#data_dest = 'res/2dim_newParam/burgers/data'\n",
    "#datasets = ['data_100_burgers_N300_'+str(i)+'.pt' for i in range(110,120)] + ['data_1000_burgers_N200_110.pt']"
   ]
  },
  {
   "cell_type": "markdown",
   "metadata": {},
   "source": [
    "#### Network parameters"
   ]
  },
  {
   "cell_type": "code",
   "execution_count": 6,
   "metadata": {},
   "outputs": [],
   "source": [
    "hidden_layers = (8,8,8,)\n",
    "epochs = 20\n",
    "batchsize = 100"
   ]
  },
  {
   "cell_type": "markdown",
   "metadata": {},
   "source": [
    "#### Mesh- and method-parameters\n",
    "To enhance performance, set small $N_y$-value if y-direction in initial data is constant.\n",
    "* $N_x$ - mesh size in x-direction\n",
    "* $N_y$ - mesh size in y-direction\n",
    "* T - temporal maximum\n",
    "* C - Courant coefficient"
   ]
  },
  {
   "cell_type": "code",
   "execution_count": 7,
   "metadata": {},
   "outputs": [],
   "source": [
    "Nx = 50\n",
    "Ny = 3\n",
    "T = 0.5\n",
    "C = 0.5"
   ]
  },
  {
   "cell_type": "markdown",
   "metadata": {},
   "source": [
    "## **Data**"
   ]
  },
  {
   "cell_type": "code",
   "execution_count": 8,
   "metadata": {
    "jupyter": {
     "source_hidden": true
    }
   },
   "outputs": [
    {
     "name": "stdout",
     "output_type": "stream",
     "text": [
      "Training data size: 100000 x 8\n",
      "Validation data size: 10000 x 8\n"
     ]
    }
   ],
   "source": [
    "data = torch.load(data_dest+'/'+datasets[0])\n",
    "for i in range(1,len(datasets)):\n",
    "    data = torch.cat(\n",
    "        ( data,torch.load(data_dest+'/'+datasets[i]) ), dim = 0\n",
    "    )\n",
    "\n",
    "torch.manual_seed(42)\n",
    "\n",
    "# double amount of data by using symmetry:\n",
    "#tmp = torch.zeros(data.size())\n",
    "#tmp[:,:] = data[:,:]\n",
    "#tmp[:,0:2] = data[:,4:6]\n",
    "#tmp[:,4:6] = data[:,0:2]\n",
    "#data = torch.cat((data,tmp),0)\n",
    "#del tmp\n",
    "\n",
    "data = data[torch.randperm(data.size(0))]\n",
    "\n",
    "data_val = data[:val_size,:]\n",
    "data_trn = data[val_size:,:]\n",
    "\n",
    "N = data_trn.size(0) # data sampler size\n",
    "\n",
    "print(\"Training data size: %d x %d\"%(data_trn.size(0),data_trn.size(1)))\n",
    "print(\"Validation data size: %d x %d\"%(data_val.size(0),data_val.size(1)))"
   ]
  },
  {
   "cell_type": "markdown",
   "metadata": {},
   "source": [
    "## **Network**"
   ]
  },
  {
   "cell_type": "code",
   "execution_count": 9,
   "metadata": {
    "jupyter": {
     "source_hidden": true
    }
   },
   "outputs": [],
   "source": [
    "dimensions = (7,) + hidden_layers + (1,)\n",
    "net = network.Network(\n",
    "    N=N, \n",
    "    dimensions=dimensions,\n",
    "    optimizer=torch.optim.AdamW\n",
    ")"
   ]
  },
  {
   "cell_type": "code",
   "execution_count": 10,
   "metadata": {},
   "outputs": [
    {
     "data": {
      "application/vnd.jupyter.widget-view+json": {
       "model_id": "5550d2189c8346f69cc6c8efbc4e6cef",
       "version_major": 2,
       "version_minor": 0
      },
      "text/plain": [
       "HBox(children=(HTML(value='Training progress (loss:       )'), FloatProgress(value=0.0, max=20.0), HTML(value=…"
      ]
     },
     "metadata": {},
     "output_type": "display_data"
    },
    {
     "name": "stdout",
     "output_type": "stream",
     "text": [
      "\n"
     ]
    },
    {
     "data": {
      "image/png": "[encoded data removed]",
      "text/plain": [
       "<Figure size 216x216 with 1 Axes>"
      ]
     },
     "metadata": {
      "needs_background": "light"
     },
     "output_type": "display_data"
    },
    {
     "data": {
      "image/png": "[encoded data removed]",
      "text/plain": [
       "<Figure size 216x216 with 1 Axes>"
      ]
     },
     "metadata": {
      "needs_background": "light"
     },
     "output_type": "display_data"
    }
   ],
   "source": [
    "net.backward(\n",
    "    epochs = epochs,\n",
    "    batchsize = batchsize,\n",
    "    data_train=data_trn,\n",
    "    data_val=data_val,\n",
    "    destination=destination,\n",
    "    name=name\n",
    ")\n",
    "hist = net.history\n",
    "hist_w = net.history_weight\n",
    "netplt = netplot.Curve(hist, hist_w)\n",
    "netplt.plot_history(destination=destination, name=name, show=True)\n",
    "netplt.plot_weights(destination=destination, name=name, show=True)"
   ]
  },
  {
   "cell_type": "markdown",
   "metadata": {},
   "source": [
    "## **Approximate by Godunov**"
   ]
  },
  {
   "cell_type": "code",
   "execution_count": 11,
   "metadata": {
    "jupyter": {
     "source_hidden": true
    }
   },
   "outputs": [
    {
     "name": "stdout",
     "output_type": "stream",
     "text": [
      "solving heavi\n"
     ]
    },
    {
     "data": {
      "application/vnd.jupyter.widget-view+json": {
       "model_id": "6b3149c41dbb4e1c95a04e8a9f220000",
       "version_major": 2,
       "version_minor": 0
      },
      "text/plain": [
       "HBox(children=(HTML(value='Solving progress'), FloatProgress(value=0.0, max=0.5), HTML(value='')))"
      ]
     },
     "metadata": {},
     "output_type": "display_data"
    },
    {
     "name": "stdout",
     "output_type": "stream",
     "text": [
      "\n",
      "solving heavi_rev\n"
     ]
    },
    {
     "data": {
      "application/vnd.jupyter.widget-view+json": {
       "model_id": "0017c3ce5ed84135b17c1607017c673e",
       "version_major": 2,
       "version_minor": 0
      },
      "text/plain": [
       "HBox(children=(HTML(value='Solving progress'), FloatProgress(value=0.0, max=0.5), HTML(value='')))"
      ]
     },
     "metadata": {},
     "output_type": "display_data"
    },
    {
     "name": "stdout",
     "output_type": "stream",
     "text": [
      "\n",
      "solving heavi_scaled\n"
     ]
    },
    {
     "data": {
      "application/vnd.jupyter.widget-view+json": {
       "model_id": "2adf54e6776340eea90ecb35de46113a",
       "version_major": 2,
       "version_minor": 0
      },
      "text/plain": [
       "HBox(children=(HTML(value='Solving progress'), FloatProgress(value=0.0, max=0.5), HTML(value='')))"
      ]
     },
     "metadata": {},
     "output_type": "display_data"
    },
    {
     "name": "stdout",
     "output_type": "stream",
     "text": [
      "\n",
      "solving trig\n"
     ]
    },
    {
     "data": {
      "application/vnd.jupyter.widget-view+json": {
       "model_id": "b733df157a14474c91eefddc6353d839",
       "version_major": 2,
       "version_minor": 0
      },
      "text/plain": [
       "HBox(children=(HTML(value='Solving progress'), FloatProgress(value=0.0, max=0.5), HTML(value='')))"
      ]
     },
     "metadata": {},
     "output_type": "display_data"
    },
    {
     "name": "stdout",
     "output_type": "stream",
     "text": [
      "\n"
     ]
    }
   ],
   "source": [
    "bounds = ['neumann' for _ in range(3)] + ['periodic']\n",
    "labels = ['heavi','heavi_rev','heavi_scaled','trig']\n",
    "init_funcs = [\n",
    "    function.InitialFunc('heavi').func,\n",
    "    function.InitialFunc('heavi_rev').func,\n",
    "    function.InitialFunc('heavi_scaled').func,\n",
    "    function.InitialFunc('sine1D').func\n",
    "]\n",
    "result = []\n",
    "for init_func, bound, label in zip(init_funcs, bounds, labels):\n",
    "    print(\"solving \"+label)\n",
    "    god = god_aprox.Godunov(\n",
    "        f=f, dfdU=dfdu, g=g, dgdU=dgdu, U0=init_func, \n",
    "        x_min=-1.0, x_max=1.0, Nx=Nx, \n",
    "        y_min=-1.0, y_max=1.0, Ny=Ny, C=C, bnd_cond=bound, network = net.network, T=T\n",
    "    )\n",
    "    god.solve\n",
    "    result.append(god.u[-1])"
   ]
  },
  {
   "cell_type": "markdown",
   "metadata": {},
   "source": [
    "## **Plot**"
   ]
  },
  {
   "cell_type": "code",
   "execution_count": 12,
   "metadata": {
    "jupyter": {
     "source_hidden": true
    }
   },
   "outputs": [
    {
     "data": {
      "application/vnd.jupyter.widget-view+json": {
       "model_id": "c0c346c9c19c41cabd119b22c53a414a",
       "version_major": 2,
       "version_minor": 0
      },
      "text/plain": [
       "HBox(children=(HTML(value='Solving progress'), FloatProgress(value=0.0, max=0.5), HTML(value='')))"
      ]
     },
     "metadata": {},
     "output_type": "display_data"
    },
    {
     "name": "stdout",
     "output_type": "stream",
     "text": [
      "\n",
      "Relative error - godunov vs network:  0.06135792701224033\n",
      "torch.Size([50])\n"
     ]
    },
    {
     "data": {
      "application/vnd.jupyter.widget-view+json": {
       "model_id": "a6cf0670c8c04a4faf754b1eee7058f0",
       "version_major": 2,
       "version_minor": 0
      },
      "text/plain": [
       "HBox(children=(HTML(value='Solving progress'), FloatProgress(value=0.0, max=0.5), HTML(value='')))"
      ]
     },
     "metadata": {},
     "output_type": "display_data"
    },
    {
     "name": "stdout",
     "output_type": "stream",
     "text": [
      "\n",
      "Relative error - godunov vs network:  0.11326781156668811\n",
      "torch.Size([50])\n"
     ]
    },
    {
     "data": {
      "application/vnd.jupyter.widget-view+json": {
       "model_id": "1d47d19b95c343d680952422f5a05b9d",
       "version_major": 2,
       "version_minor": 0
      },
      "text/plain": [
       "HBox(children=(HTML(value='Solving progress'), FloatProgress(value=0.0, max=0.5), HTML(value='')))"
      ]
     },
     "metadata": {},
     "output_type": "display_data"
    },
    {
     "name": "stdout",
     "output_type": "stream",
     "text": [
      "\n",
      "Relative error - godunov vs network:  0.10778670396001427\n",
      "torch.Size([50])\n"
     ]
    },
    {
     "data": {
      "application/vnd.jupyter.widget-view+json": {
       "model_id": "f9940e4c299a442a89f28ff06f15faa7",
       "version_major": 2,
       "version_minor": 0
      },
      "text/plain": [
       "HBox(children=(HTML(value='Solving progress'), FloatProgress(value=0.0, max=0.5), HTML(value='')))"
      ]
     },
     "metadata": {},
     "output_type": "display_data"
    },
    {
     "name": "stdout",
     "output_type": "stream",
     "text": [
      "\n",
      "Relative error - godunov vs network:  0.6728556441681922\n",
      "torch.Size([50])\n"
     ]
    }
   ],
   "source": [
    "y = torch.linspace(-1, 1, result[0].size(0), dtype=torch.float64)\n",
    "x = torch.linspace(-1, 1, result[0].size(1), dtype=torch.float64)\n",
    "y_mesh,x_mesh = torch.meshgrid(y,x)\n",
    "mesh = torch.stack((x_mesh,y_mesh),axis=2)\n",
    "x, y = mesh[:,:,0].numpy(), mesh[:,:,1].numpy()\n",
    "z = [res.numpy() for res in result]\n",
    "\n",
    "x_e = np.linspace(-1,1,8192)\n",
    "u_e = [\n",
    "    (x_e/T)*((0.0<x_e)*(x_e<T)) + (x_e>=T),\n",
    "    (x_e<=T/2),\n",
    "    (x_e>=T) + (x_e/T)*((T>x_e)*(x_e>-T)) - (-T>=x_e),\n",
    "    torch.load('res/2dim/burgers/exact/exact_godunov_N8192_T05_C05_burgers_trig.pt').numpy()\n",
    "]\n",
    "\n",
    "#for Godunov:\n",
    "u0 = [\n",
    "    lambda x: (x>=0).type(torch.float64), # Heaviside\n",
    "    lambda x: (x<0).type(torch.float64), # Reversed Heaviside\n",
    "    lambda x: ((-1)*(x<0) + (x>0)).type(torch.float64), # Inverse\n",
    "    lambda x: np.sin(4*np.pi*x) # Trigonometric\n",
    "]\n",
    "\n",
    "for i,zi,label in zip(range(len(z)),z, labels):\n",
    "    fig = plt.figure(figsize=(10,10))\n",
    "    ax = fig.add_subplot(111, projection='3d')\n",
    "    # set axis names\n",
    "    ax.set_xlabel('x')\n",
    "    ax.set_ylabel('y')\n",
    "    ax.set_zlabel('u')\n",
    "    # set axis values on x-and y-axes\n",
    "    tick = np.linspace(-1, 1, 5)\n",
    "    plt.xticks(ticks=tick,labels=tick)\n",
    "    plt.yticks(ticks=tick,labels=tick)\n",
    "    # set z-axis limit\n",
    "    axMax = np.max(zi)+0.01*np.max(zi)\n",
    "    axMin = np.min(zi)+0.01*np.min(zi)\n",
    "    ax.set_zlim(axMin,axMax)\n",
    "    # set view angle\n",
    "    ax.view_init(15,-110)\n",
    "    im = ax.plot_surface(x, y , zi, ccount=1000, cmap='coolwarm',shade=False, alpha=0.5)\n",
    "    im = ax.plot_wireframe(x, y , zi, rstride=100,cstride=200, color=\"k\",ls='--', alpha=0.8)\n",
    "    plt.savefig(destination+'/'+label+'_network_3D'+'.pdf',format='pdf')\n",
    "    plt.close()\n",
    "\n",
    "    fig = plt.figure(figsize=(5,5))\n",
    "    im = plt.imshow(\n",
    "        zi,\n",
    "        cmap='coolwarm',\n",
    "        extent=[-1,1,-1,1],\n",
    "        vmin=np.min(zi)-0.01,\n",
    "        vmax=np.max(zi)+0.01\n",
    "    )\n",
    "    tick = np.linspace(-1, 1, 5)\n",
    "    plt.colorbar(im, pad=0.04)\n",
    "    plt.xticks(ticks=tick,labels=tick)\n",
    "    plt.yticks(ticks=tick,labels=tick)\n",
    "    plt.xlabel('x')\n",
    "    plt.ylabel('y', rotation=0)\n",
    "    plt.savefig(destination+'/'+label+'_network_color'+'.pdf',format='pdf')\n",
    "    plt.close()\n",
    "    \n",
    "    #solve wrt Godunov - with mesh size Nx\n",
    "    god_g = god_exact.Godunov(\n",
    "        f=f, dfdu=dfdu, u0=u0[i], \n",
    "        bnd_cond=bounds[i], \n",
    "        xmin=-1, xmax=1, Nx=Nx, \n",
    "        T=T, C=C\n",
    "    )\n",
    "    god_g.solve\n",
    "    u_g = god_g.u[-1]\n",
    "    x_g = god_g.x\n",
    "    \n",
    "    u = torch.mean(result[i],dim=0)\n",
    "    x = torch.linspace(-1,1, len(u))\n",
    "    plt.figure(figsize=(3,3))\n",
    "    plt.plot(x_e,u_e[i],'C0',lw=0.8)\n",
    "    plt.plot(x,u,'C1.-',lw=0.8)\n",
    "    plt.plot(x_g, u_g,'C2--',lw=0.8)\n",
    "    plt.xlabel('x')\n",
    "    plt.ylabel('u',rotation=0)\n",
    "    plt.tight_layout()\n",
    "    plt.savefig(destination+'/'+labels[i]+'_network_2D.pdf',format='pdf')\n",
    "    plt.close()\n",
    "    \n",
    "    re = float(\n",
    "        torch.sqrt(\n",
    "            torch.sum( (u-u_g)**2 )/torch.sum( (u_g)**2 )\n",
    "        )\n",
    "    )\n",
    "    print(\"Relative error - godunov vs network: \",re)\n",
    "    print(u_g.size())"
   ]
  },
  {
   "cell_type": "code",
   "execution_count": null,
   "metadata": {},
   "outputs": [],
   "source": []
  }
 ],
 "metadata": {
  "kernelspec": {
   "display_name": "Python 3",
   "language": "python",
   "name": "python3"
  },
  "language_info": {
   "codemirror_mode": {
    "name": "ipython",
    "version": 3
   },
   "file_extension": ".py",
   "mimetype": "text/x-python",
   "name": "python",
   "nbconvert_exporter": "python",
   "pygments_lexer": "ipython3",
   "version": "3.8.3"
  }
 },
 "nbformat": 4,
 "nbformat_minor": 4
}
